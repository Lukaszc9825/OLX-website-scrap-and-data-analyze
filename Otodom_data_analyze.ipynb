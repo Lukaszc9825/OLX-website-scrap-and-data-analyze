{
  "nbformat": 4,
  "nbformat_minor": 0,
  "metadata": {
    "colab": {
      "name": "Otodom_data_analyze.ipynb",
      "provenance": [],
      "collapsed_sections": [],
      "toc_visible": true,
      "mount_file_id": "1ZaRdUPmE5yeqUSjrfo5nx98prX3K3eMx",
      "authorship_tag": "ABX9TyMudAjyaAz17rgsJqtxzsKJ",
      "include_colab_link": true
    },
    "kernelspec": {
      "name": "python3",
      "display_name": "Python 3"
    }
  },
  "cells": [
    {
      "cell_type": "markdown",
      "metadata": {
        "id": "view-in-github",
        "colab_type": "text"
      },
      "source": [
        "<a href=\"https://colab.research.google.com/github/Lukaszc9825/webscrap-and-bigdata-analyze/blob/collab/Otodom_data_analyze.ipynb\" target=\"_parent\"><img src=\"https://colab.research.google.com/assets/colab-badge.svg\" alt=\"Open In Colab\"/></a>"
      ]
    },
    {
      "cell_type": "markdown",
      "metadata": {
        "id": "TmAcrq3Ztccj"
      },
      "source": [
        "\n",
        "**Libraries install and import**"
      ]
    },
    {
      "cell_type": "code",
      "metadata": {
        "id": "sEctmWi-tq-m"
      },
      "source": [
        "import pandas as pd\n",
        "import json\n",
        "import requests\n",
        "from bs4 import BeautifulSoup as bs"
      ],
      "execution_count": 131,
      "outputs": []
    },
    {
      "cell_type": "markdown",
      "metadata": {
        "id": "wESK1Rzcu85Q"
      },
      "source": [
        "**Load data**"
      ]
    },
    {
      "cell_type": "code",
      "metadata": {
        "id": "MwZQx9BXu7bU"
      },
      "source": [
        "df1 = pd.read_json('/content/drive/My Drive/data analyze/otodom_rent_data')\n",
        "df2 = pd.read_json('/content/drive/My Drive/data analyze/otodom_sale_data')"
      ],
      "execution_count": 132,
      "outputs": []
    },
    {
      "cell_type": "code",
      "metadata": {
        "id": "q75VHnTR7O6M"
      },
      "source": [
        "headers = {\"User-Agent\": 'Mozilla/5.0 (X11; Linux x86_64) AppleWebKit/537.36\\\n",
        "(KHTML, like Gecko) Chrome/86.0.4240.75 Safari/537.36'}"
      ],
      "execution_count": 133,
      "outputs": []
    },
    {
      "cell_type": "code",
      "metadata": {
        "id": "MKfBvgJM1yXJ"
      },
      "source": [
        "df1['Rent'] = 'no data'\n",
        "df1['Deposit'] = 'no data'\n",
        "df1['Number of rooms'] = 'no data'\n",
        "df1['built in'] = 'no data'\n",
        "df1['floor'] = 'no data'\n",
        "df1['number of floors'] = 'no data'"
      ],
      "execution_count": 217,
      "outputs": []
    },
    {
      "cell_type": "code",
      "metadata": {
        "id": "wGpNPDSQsqH9"
      },
      "source": [
        "df3 = df1[:10]"
      ],
      "execution_count": 218,
      "outputs": []
    },
    {
      "cell_type": "markdown",
      "metadata": {
        "id": "CjnAOZFM7Ckg"
      },
      "source": [
        "## *add kolumns with more accurate data*"
      ]
    },
    {
      "cell_type": "markdown",
      "metadata": {
        "id": "PHLLAa7A7zVG"
      },
      "source": [
        "*scrap each adverisment*"
      ]
    },
    {
      "cell_type": "code",
      "metadata": {
        "id": "Uh2mEvqX4gj7"
      },
      "source": [
        "for index,href in enumerate(df3['href']):\n",
        "  page = requests.get(href, headers = headers)\n",
        "  soup = bs(page.content, 'html.parser')\n",
        "  mess = soup.find_all(class_ ='section-overview')\n",
        "  for m in mess:\n",
        "    data = m.find('ul')\n",
        "    data = data.find_all('li')\n",
        "    temp = {}\n",
        "    for d in data:\n",
        "      temp[d.get_text().split(\":\")[0]] = d.get_text().split(\":\")[1].strip()\n",
        "    \n",
        "    # add rent price to data frame\n",
        "    if 'Czynsz - dodatkowo' in temp:\n",
        "      df3.at[index,'Rent'] = \"+\" + temp.get('Czynsz - dodatkowo')\n",
        "    elif 'Czynsz' in temp:\n",
        "      df3.at[index,'Rent'] = temp.get('Czynsz')\n",
        "    elif 'Czynsz - dodatkowo' in temp == False and 'Czynsz' in temp == False:\n",
        "      df3.at[index,'Rent'] = 0\n",
        "    \n",
        "    # add deposit to data frame\n",
        "    if 'Kaucja' in temp:\n",
        "      df3.at[index,'Deposit'] = temp.get('Kaucja')\n",
        "    elif 'Kaucja' in temp == False:\n",
        "      df3.at[index,'Deposit'] = 0\n",
        "    \n",
        "    # add number of rooms to data frame\n",
        "    if 'Liczba pokoi' in temp:\n",
        "      df3.at[index,'Number of rooms'] = temp.get('Liczba pokoi')\n",
        "    elif 'Liczba pokoi' in temp == False:\n",
        "      df3.at[index,'Number of rooms'] = 0\n",
        "\n",
        "    # add year of building to data frame\n",
        "    if 'Rok budowy' in temp:\n",
        "      df3.at[index,'built in'] = temp.get('Rok budowy')\n",
        "    elif 'Rok budowy' in temp == False:\n",
        "      df3.at[index,'built in'] = 0\n",
        "\n",
        "    # add floor to data frame\n",
        "    if 'Piętro' in temp:\n",
        "      if temp.get('Piętro') == 'parter':\n",
        "        df3.at[index,'floor'] = '0'\n",
        "      else:\n",
        "        df3.at[index,'floor'] = temp.get('Piętro')\n",
        "    elif 'Piętro' in temp == False:\n",
        "      df3.at[index,'floor'] = 'no data'\n",
        "\n",
        "    # add number of floors to data frame\n",
        "    if 'Liczba pięter' in temp:\n",
        "      df3.at[index,'number of floors'] = temp.get('Liczba pięter')\n",
        "    elif 'Liczba pięter' in temp == False:\n",
        "      df3.at[index,'number of floors'] = 0        "
      ],
      "execution_count": 222,
      "outputs": []
    },
    {
      "cell_type": "code",
      "metadata": {
        "id": "dO-QAnrPXVgz",
        "outputId": "ecf687bf-ab2f-4714-b4d6-a188cbb0f3a6",
        "colab": {
          "base_uri": "https://localhost:8080/",
          "height": 699
        }
      },
      "source": [
        "df3"
      ],
      "execution_count": 223,
      "outputs": [
        {
          "output_type": "execute_result",
          "data": {
            "text/html": [
              "<div>\n",
              "<style scoped>\n",
              "    .dataframe tbody tr th:only-of-type {\n",
              "        vertical-align: middle;\n",
              "    }\n",
              "\n",
              "    .dataframe tbody tr th {\n",
              "        vertical-align: top;\n",
              "    }\n",
              "\n",
              "    .dataframe thead th {\n",
              "        text-align: right;\n",
              "    }\n",
              "</style>\n",
              "<table border=\"1\" class=\"dataframe\">\n",
              "  <thead>\n",
              "    <tr style=\"text-align: right;\">\n",
              "      <th></th>\n",
              "      <th>href</th>\n",
              "      <th>area</th>\n",
              "      <th>advertisment name</th>\n",
              "      <th>for rent/sale</th>\n",
              "      <th>localization</th>\n",
              "      <th>price</th>\n",
              "      <th>Rent</th>\n",
              "      <th>Deposit</th>\n",
              "      <th>Number of rooms</th>\n",
              "      <th>built in</th>\n",
              "      <th>floor</th>\n",
              "      <th>number of floors</th>\n",
              "    </tr>\n",
              "  </thead>\n",
              "  <tbody>\n",
              "    <tr>\n",
              "      <th>0</th>\n",
              "      <td>https://www.otodom.pl/oferta/nowoczesny-wyjatk...</td>\n",
              "      <td>87,33 m²</td>\n",
              "      <td>Nowoczesny, wyjątkowy apartament na Muranowie</td>\n",
              "      <td>rent</td>\n",
              "      <td>Warszawa, Śródmieście</td>\n",
              "      <td>5 500 zł</td>\n",
              "      <td>+300 zł</td>\n",
              "      <td>5 500 zł</td>\n",
              "      <td>3</td>\n",
              "      <td>2010</td>\n",
              "      <td>3</td>\n",
              "      <td>7</td>\n",
              "    </tr>\n",
              "    <tr>\n",
              "      <th>1</th>\n",
              "      <td>https://www.otodom.pl/oferta/mieszkanie-jagiel...</td>\n",
              "      <td>57 m²</td>\n",
              "      <td>Mieszkanie Jagiellońska w centrum Zakopanego</td>\n",
              "      <td>rent</td>\n",
              "      <td>Zakopane, tatrzański, małopolskie</td>\n",
              "      <td>3 000 zł</td>\n",
              "      <td>+625 zł</td>\n",
              "      <td>3 000 zł</td>\n",
              "      <td>3</td>\n",
              "      <td>no data</td>\n",
              "      <td>0</td>\n",
              "      <td>no data</td>\n",
              "    </tr>\n",
              "    <tr>\n",
              "      <th>2</th>\n",
              "      <td>https://www.otodom.pl/oferta/na-ok-4-miesiace-...</td>\n",
              "      <td>45 m²</td>\n",
              "      <td>na ok 4 miesiące wynajmę pracownikom, tez Ukraina</td>\n",
              "      <td>rent</td>\n",
              "      <td>Szczecin, zachodniopomorskie</td>\n",
              "      <td>1 100 zł</td>\n",
              "      <td>+400 zł</td>\n",
              "      <td>1 500 zł</td>\n",
              "      <td>2</td>\n",
              "      <td>no data</td>\n",
              "      <td>8</td>\n",
              "      <td>10</td>\n",
              "    </tr>\n",
              "    <tr>\n",
              "      <th>3</th>\n",
              "      <td>https://www.otodom.pl/oferta/rodzinne-mieszkan...</td>\n",
              "      <td>79,50 m²</td>\n",
              "      <td>Rodzinne mieszkanie w Wilanowie Sarmacka</td>\n",
              "      <td>rent</td>\n",
              "      <td>Warszawa, Wilanów</td>\n",
              "      <td>4 000 zł</td>\n",
              "      <td>no data</td>\n",
              "      <td>no data</td>\n",
              "      <td>3</td>\n",
              "      <td>2009</td>\n",
              "      <td>2</td>\n",
              "      <td>3</td>\n",
              "    </tr>\n",
              "    <tr>\n",
              "      <th>4</th>\n",
              "      <td>https://www.otodom.pl/oferta/mieszkanie-2-poko...</td>\n",
              "      <td>66,47 m²</td>\n",
              "      <td>Mieszkanie 2 pokoje + salon/kuchnia, centrum W...</td>\n",
              "      <td>rent</td>\n",
              "      <td>Poznań, Wilda, Górna Wilda</td>\n",
              "      <td>2 250 zł</td>\n",
              "      <td>+490 zł</td>\n",
              "      <td>2 250 zł</td>\n",
              "      <td>2</td>\n",
              "      <td>no data</td>\n",
              "      <td>2</td>\n",
              "      <td>4</td>\n",
              "    </tr>\n",
              "    <tr>\n",
              "      <th>5</th>\n",
              "      <td>https://www.otodom.pl/oferta/elegancko-wykoncz...</td>\n",
              "      <td>42,38 m²</td>\n",
              "      <td>Elegancko wykończone i wyposażone M2. Mordor.</td>\n",
              "      <td>rent</td>\n",
              "      <td>Warszawa, Mokotów, Wyględów</td>\n",
              "      <td>2 500 zł</td>\n",
              "      <td>+500 zł</td>\n",
              "      <td>no data</td>\n",
              "      <td>2</td>\n",
              "      <td>2019</td>\n",
              "      <td>8</td>\n",
              "      <td>8</td>\n",
              "    </tr>\n",
              "    <tr>\n",
              "      <th>6</th>\n",
              "      <td>https://www.otodom.pl/oferta/apartament-ordona...</td>\n",
              "      <td>31 m²</td>\n",
              "      <td>Apartament Ordona sypialnia + pokój z aneksem</td>\n",
              "      <td>rent</td>\n",
              "      <td>Warszawa, Wola</td>\n",
              "      <td>2 150 zł</td>\n",
              "      <td>+350 zł</td>\n",
              "      <td>2 500 zł</td>\n",
              "      <td>2</td>\n",
              "      <td>2020</td>\n",
              "      <td>1</td>\n",
              "      <td>6</td>\n",
              "    </tr>\n",
              "    <tr>\n",
              "      <th>7</th>\n",
              "      <td>https://www.otodom.pl/oferta/przestronna-kawal...</td>\n",
              "      <td>35 m²</td>\n",
              "      <td>Przestronna kawalerka po remoncie Lea/Kijowska</td>\n",
              "      <td>rent</td>\n",
              "      <td>Kraków, Krowodrza</td>\n",
              "      <td>1 350 zł</td>\n",
              "      <td>+350 zł</td>\n",
              "      <td>1 350 zł</td>\n",
              "      <td>1</td>\n",
              "      <td>1960</td>\n",
              "      <td>0</td>\n",
              "      <td>4</td>\n",
              "    </tr>\n",
              "    <tr>\n",
              "      <th>8</th>\n",
              "      <td>https://www.otodom.pl/oferta/dwupokojowe-miesz...</td>\n",
              "      <td>50 m²</td>\n",
              "      <td>Dwupokojowe mieszkanie na Ursynowie</td>\n",
              "      <td>rent</td>\n",
              "      <td>Warszawa, Ursynów</td>\n",
              "      <td>2 500 zł</td>\n",
              "      <td>no data</td>\n",
              "      <td>2 500 zł</td>\n",
              "      <td>2</td>\n",
              "      <td>2010</td>\n",
              "      <td>0</td>\n",
              "      <td>3</td>\n",
              "    </tr>\n",
              "    <tr>\n",
              "      <th>9</th>\n",
              "      <td>https://www.otodom.pl/oferta/kawalerka-srodmie...</td>\n",
              "      <td>22 m²</td>\n",
              "      <td>Kawalerka Śródmieście świetna lokalizacja</td>\n",
              "      <td>rent</td>\n",
              "      <td>Warszawa, Wola, Muranów</td>\n",
              "      <td>1 600 zł</td>\n",
              "      <td>+200 zł</td>\n",
              "      <td>1 600 zł</td>\n",
              "      <td>1</td>\n",
              "      <td>1950</td>\n",
              "      <td>3</td>\n",
              "      <td>4</td>\n",
              "    </tr>\n",
              "  </tbody>\n",
              "</table>\n",
              "</div>"
            ],
            "text/plain": [
              "                                                href  ... number of floors\n",
              "0  https://www.otodom.pl/oferta/nowoczesny-wyjatk...  ...                7\n",
              "1  https://www.otodom.pl/oferta/mieszkanie-jagiel...  ...          no data\n",
              "2  https://www.otodom.pl/oferta/na-ok-4-miesiace-...  ...               10\n",
              "3  https://www.otodom.pl/oferta/rodzinne-mieszkan...  ...                3\n",
              "4  https://www.otodom.pl/oferta/mieszkanie-2-poko...  ...                4\n",
              "5  https://www.otodom.pl/oferta/elegancko-wykoncz...  ...                8\n",
              "6  https://www.otodom.pl/oferta/apartament-ordona...  ...                6\n",
              "7  https://www.otodom.pl/oferta/przestronna-kawal...  ...                4\n",
              "8  https://www.otodom.pl/oferta/dwupokojowe-miesz...  ...                3\n",
              "9  https://www.otodom.pl/oferta/kawalerka-srodmie...  ...                4\n",
              "\n",
              "[10 rows x 12 columns]"
            ]
          },
          "metadata": {
            "tags": []
          },
          "execution_count": 223
        }
      ]
    },
    {
      "cell_type": "code",
      "metadata": {
        "id": "SutMueLq8Hv9"
      },
      "source": [
        "df3['href'][1]"
      ],
      "execution_count": null,
      "outputs": []
    }
  ]
}