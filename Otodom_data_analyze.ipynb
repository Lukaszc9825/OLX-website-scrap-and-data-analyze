{
  "nbformat": 4,
  "nbformat_minor": 0,
  "metadata": {
    "colab": {
      "name": "Otodom_data_analyze.ipynb",
      "provenance": [],
      "collapsed_sections": [],
      "toc_visible": true,
      "mount_file_id": "1ZaRdUPmE5yeqUSjrfo5nx98prX3K3eMx",
      "authorship_tag": "ABX9TyMWvEYdsz1VRjHx3who87u7",
      "include_colab_link": true
    },
    "kernelspec": {
      "name": "python3",
      "display_name": "Python 3"
    }
  },
  "cells": [
    {
      "cell_type": "markdown",
      "metadata": {
        "id": "view-in-github",
        "colab_type": "text"
      },
      "source": [
        "<a href=\"https://colab.research.google.com/github/Lukaszc9825/webscrap-and-bigdata-analyze/blob/collab/Otodom_data_analyze.ipynb\" target=\"_parent\"><img src=\"https://colab.research.google.com/assets/colab-badge.svg\" alt=\"Open In Colab\"/></a>"
      ]
    },
    {
      "cell_type": "markdown",
      "metadata": {
        "id": "TmAcrq3Ztccj"
      },
      "source": [
        "\n",
        "**Libraries install and import**"
      ]
    },
    {
      "cell_type": "code",
      "metadata": {
        "id": "sEctmWi-tq-m"
      },
      "source": [
        "import pandas as pd\n",
        "import json\n",
        "import requests\n",
        "from bs4 import BeautifulSoup as bs"
      ],
      "execution_count": 131,
      "outputs": []
    },
    {
      "cell_type": "markdown",
      "metadata": {
        "id": "wESK1Rzcu85Q"
      },
      "source": [
        "**Load data**"
      ]
    },
    {
      "cell_type": "code",
      "metadata": {
        "id": "MwZQx9BXu7bU"
      },
      "source": [
        "df1 = pd.read_json('/content/drive/My Drive/data analyze/otodom_rent_data')\n",
        "df2 = pd.read_json('/content/drive/My Drive/data analyze/otodom_sale_data')"
      ],
      "execution_count": 132,
      "outputs": []
    },
    {
      "cell_type": "code",
      "metadata": {
        "id": "q75VHnTR7O6M"
      },
      "source": [
        "headers = {\"User-Agent\": 'Mozilla/5.0 (X11; Linux x86_64) AppleWebKit/537.36\\\n",
        "(KHTML, like Gecko) Chrome/86.0.4240.75 Safari/537.36'}"
      ],
      "execution_count": 133,
      "outputs": []
    },
    {
      "cell_type": "markdown",
      "metadata": {
        "id": "CjnAOZFM7Ckg"
      },
      "source": [
        "## *add kolumns with more accurate data*"
      ]
    },
    {
      "cell_type": "code",
      "metadata": {
        "id": "hh7G7MTNWUj9"
      },
      "source": [
        "df1['Rent'] = 'no data'\n",
        "df1['Deposit'] = 'no data'\n",
        "df1['Number of rooms'] = 'no data'\n",
        "df1['built in'] = 'no data'\n",
        "df1['floor'] = 'no data'\n",
        "df1['number of floors'] = 'no data'"
      ],
      "execution_count": null,
      "outputs": []
    },
    {
      "cell_type": "code",
      "metadata": {
        "id": "LnDZXvmeWWJm"
      },
      "source": [
        "df3 = df1[:10]"
      ],
      "execution_count": null,
      "outputs": []
    },
    {
      "cell_type": "markdown",
      "metadata": {
        "id": "PHLLAa7A7zVG"
      },
      "source": [
        "*scrap each adverisment*"
      ]
    },
    {
      "cell_type": "code",
      "metadata": {
        "id": "Uh2mEvqX4gj7"
      },
      "source": [
        "def find_data(df):\n",
        "  for index,href in enumerate(df['href']):\n",
        "    page = requests.get(href, headers = headers)\n",
        "    soup = bs(page.content, 'html.parser')\n",
        "    mess = soup.find_all(class_ ='section-overview')\n",
        "    for m in mess:\n",
        "      data = m.find('ul')\n",
        "      data = data.find_all('li')\n",
        "      temp = {}\n",
        "      for d in data:\n",
        "        temp[d.get_text().split(\":\")[0]] = d.get_text().split(\":\")[1].strip()\n",
        "      \n",
        "      # add rent price to data frame\n",
        "      if 'Czynsz - dodatkowo' in temp:\n",
        "        df.at[index,'Rent'] = \"+\" + temp.get('Czynsz - dodatkowo')\n",
        "      elif 'Czynsz' in temp:\n",
        "        df.at[index,'Rent'] = temp.get('Czynsz')\n",
        "      elif 'Czynsz - dodatkowo' in temp == False and 'Czynsz' in temp == False:\n",
        "        df.at[index,'Rent'] = 0\n",
        "      \n",
        "      # add deposit to data frame\n",
        "      if 'Kaucja' in temp:\n",
        "        df.at[index,'Deposit'] = temp.get('Kaucja')\n",
        "      elif 'Kaucja' in temp == False:\n",
        "        df.at[index,'Deposit'] = 0\n",
        "      \n",
        "      # add number of rooms to data frame\n",
        "      if 'Liczba pokoi' in temp:\n",
        "        df.at[index,'Number of rooms'] = temp.get('Liczba pokoi')\n",
        "      elif 'Liczba pokoi' in temp == False:\n",
        "        df.at[index,'Number of rooms'] = 0\n",
        "\n",
        "      # add year of building to data frame\n",
        "      if 'Rok budowy' in temp:\n",
        "        df.at[index,'built in'] = temp.get('Rok budowy')\n",
        "      elif 'Rok budowy' in temp == False:\n",
        "        df.at[index,'built in'] = 0\n",
        "\n",
        "      # add floor to data frame\n",
        "      if 'Piętro' in temp:\n",
        "        if temp.get('Piętro') == 'parter':\n",
        "          df.at[index,'floor'] = '0'\n",
        "        else:\n",
        "          df.at[index,'floor'] = temp.get('Piętro')\n",
        "      elif 'Piętro' in temp == False:\n",
        "        df.at[index,'floor'] = 'no data'\n",
        "\n",
        "      # add number of floors to data frame\n",
        "      if 'Liczba pięter' in temp:\n",
        "        df.at[index,'number of floors'] = temp.get('Liczba pięter')\n",
        "      elif 'Liczba pięter' in temp == False:\n",
        "        df.at[index,'number of floors'] = 0\n",
        "\n",
        "  return df"
      ],
      "execution_count": 230,
      "outputs": []
    },
    {
      "cell_type": "code",
      "metadata": {
        "id": "dO-QAnrPXVgz"
      },
      "source": [
        "find_data(df1)"
      ],
      "execution_count": null,
      "outputs": []
    },
    {
      "cell_type": "code",
      "metadata": {
        "id": "SutMueLq8Hv9"
      },
      "source": [
        "df1.to_json('/content/drive/My Drive/data analyze/otodom_full_data', orient= 'split')"
      ],
      "execution_count": 235,
      "outputs": []
    },
    {
      "cell_type": "code",
      "metadata": {
        "id": "XCyYpLiBVyEt"
      },
      "source": [
        "df = pd.read_json('/content/drive/My Drive/data analyze/otodom_full_data', orient = 'split')"
      ],
      "execution_count": 237,
      "outputs": []
    },
    {
      "cell_type": "code",
      "metadata": {
        "id": "zKKGE5RbV_Lw",
        "outputId": "adbc07ba-ffc2-4e7b-c39a-0822e33cbb8d",
        "colab": {
          "base_uri": "https://localhost:8080/",
          "height": 949
        }
      },
      "source": [
        "df"
      ],
      "execution_count": 238,
      "outputs": [
        {
          "output_type": "execute_result",
          "data": {
            "text/html": [
              "<div>\n",
              "<style scoped>\n",
              "    .dataframe tbody tr th:only-of-type {\n",
              "        vertical-align: middle;\n",
              "    }\n",
              "\n",
              "    .dataframe tbody tr th {\n",
              "        vertical-align: top;\n",
              "    }\n",
              "\n",
              "    .dataframe thead th {\n",
              "        text-align: right;\n",
              "    }\n",
              "</style>\n",
              "<table border=\"1\" class=\"dataframe\">\n",
              "  <thead>\n",
              "    <tr style=\"text-align: right;\">\n",
              "      <th></th>\n",
              "      <th>href</th>\n",
              "      <th>area</th>\n",
              "      <th>advertisment name</th>\n",
              "      <th>for rent/sale</th>\n",
              "      <th>localization</th>\n",
              "      <th>price</th>\n",
              "      <th>Rent</th>\n",
              "      <th>Deposit</th>\n",
              "      <th>Number of rooms</th>\n",
              "      <th>built in</th>\n",
              "      <th>floor</th>\n",
              "      <th>number of floors</th>\n",
              "    </tr>\n",
              "  </thead>\n",
              "  <tbody>\n",
              "    <tr>\n",
              "      <th>0</th>\n",
              "      <td>https://www.otodom.pl/oferta/nowoczesny-wyjatk...</td>\n",
              "      <td>87,33 m²</td>\n",
              "      <td>Nowoczesny, wyjątkowy apartament na Muranowie</td>\n",
              "      <td>rent</td>\n",
              "      <td>Warszawa, Śródmieście</td>\n",
              "      <td>5 500 zł</td>\n",
              "      <td>+300 zł</td>\n",
              "      <td>5 500 zł</td>\n",
              "      <td>3</td>\n",
              "      <td>2010</td>\n",
              "      <td>3</td>\n",
              "      <td>7</td>\n",
              "    </tr>\n",
              "    <tr>\n",
              "      <th>1</th>\n",
              "      <td>https://www.otodom.pl/oferta/mieszkanie-jagiel...</td>\n",
              "      <td>57 m²</td>\n",
              "      <td>Mieszkanie Jagiellońska w centrum Zakopanego</td>\n",
              "      <td>rent</td>\n",
              "      <td>Zakopane, tatrzański, małopolskie</td>\n",
              "      <td>3 000 zł</td>\n",
              "      <td>+625 zł</td>\n",
              "      <td>3 000 zł</td>\n",
              "      <td>3</td>\n",
              "      <td>no data</td>\n",
              "      <td>0</td>\n",
              "      <td>no data</td>\n",
              "    </tr>\n",
              "    <tr>\n",
              "      <th>2</th>\n",
              "      <td>https://www.otodom.pl/oferta/na-ok-4-miesiace-...</td>\n",
              "      <td>45 m²</td>\n",
              "      <td>na ok 4 miesiące wynajmę pracownikom, tez Ukraina</td>\n",
              "      <td>rent</td>\n",
              "      <td>Szczecin, zachodniopomorskie</td>\n",
              "      <td>1 100 zł</td>\n",
              "      <td>+400 zł</td>\n",
              "      <td>1 500 zł</td>\n",
              "      <td>2</td>\n",
              "      <td>no data</td>\n",
              "      <td>8</td>\n",
              "      <td>10</td>\n",
              "    </tr>\n",
              "    <tr>\n",
              "      <th>3</th>\n",
              "      <td>https://www.otodom.pl/oferta/rodzinne-mieszkan...</td>\n",
              "      <td>79,50 m²</td>\n",
              "      <td>Rodzinne mieszkanie w Wilanowie Sarmacka</td>\n",
              "      <td>rent</td>\n",
              "      <td>Warszawa, Wilanów</td>\n",
              "      <td>4 000 zł</td>\n",
              "      <td>no data</td>\n",
              "      <td>no data</td>\n",
              "      <td>3</td>\n",
              "      <td>2009</td>\n",
              "      <td>2</td>\n",
              "      <td>3</td>\n",
              "    </tr>\n",
              "    <tr>\n",
              "      <th>4</th>\n",
              "      <td>https://www.otodom.pl/oferta/mieszkanie-2-poko...</td>\n",
              "      <td>66,47 m²</td>\n",
              "      <td>Mieszkanie 2 pokoje + salon/kuchnia, centrum W...</td>\n",
              "      <td>rent</td>\n",
              "      <td>Poznań, Wilda, Górna Wilda</td>\n",
              "      <td>2 250 zł</td>\n",
              "      <td>+490 zł</td>\n",
              "      <td>2 250 zł</td>\n",
              "      <td>2</td>\n",
              "      <td>no data</td>\n",
              "      <td>2</td>\n",
              "      <td>4</td>\n",
              "    </tr>\n",
              "    <tr>\n",
              "      <th>...</th>\n",
              "      <td>...</td>\n",
              "      <td>...</td>\n",
              "      <td>...</td>\n",
              "      <td>...</td>\n",
              "      <td>...</td>\n",
              "      <td>...</td>\n",
              "      <td>...</td>\n",
              "      <td>...</td>\n",
              "      <td>...</td>\n",
              "      <td>...</td>\n",
              "      <td>...</td>\n",
              "      <td>...</td>\n",
              "    </tr>\n",
              "    <tr>\n",
              "      <th>13495</th>\n",
              "      <td>https://www.otodom.pl/oferta/mieszkanie-90-m-w...</td>\n",
              "      <td>90 m²</td>\n",
              "      <td>Mieszkanie, 90 m², Warszawa</td>\n",
              "      <td>rent</td>\n",
              "      <td>Warszawa, Śródmieście, Śródmieście Północne</td>\n",
              "      <td>5 800 zł</td>\n",
              "      <td>no data</td>\n",
              "      <td>no data</td>\n",
              "      <td>3</td>\n",
              "      <td>2004</td>\n",
              "      <td>4</td>\n",
              "      <td>8</td>\n",
              "    </tr>\n",
              "    <tr>\n",
              "      <th>13496</th>\n",
              "      <td>https://www.otodom.pl/oferta/rozkladowe-mieszk...</td>\n",
              "      <td>38 m²</td>\n",
              "      <td>Rozkładowe mieszkanie 2-pokojowe na Rynku</td>\n",
              "      <td>rent</td>\n",
              "      <td>Wrocław, Stare Miasto</td>\n",
              "      <td>1 600 zł</td>\n",
              "      <td>no data</td>\n",
              "      <td>no data</td>\n",
              "      <td>2</td>\n",
              "      <td>no data</td>\n",
              "      <td>2</td>\n",
              "      <td>no data</td>\n",
              "    </tr>\n",
              "    <tr>\n",
              "      <th>13497</th>\n",
              "      <td>https://www.otodom.pl/oferta/2-pok-41m2-marina...</td>\n",
              "      <td>41 m²</td>\n",
              "      <td>2 pok. 41m2 - Marina, Mokotów</td>\n",
              "      <td>rent</td>\n",
              "      <td>Warszawa, Mokotów</td>\n",
              "      <td>2 500 zł</td>\n",
              "      <td>+450 zł</td>\n",
              "      <td>no data</td>\n",
              "      <td>2</td>\n",
              "      <td>2020</td>\n",
              "      <td>3</td>\n",
              "      <td>6</td>\n",
              "    </tr>\n",
              "    <tr>\n",
              "      <th>13498</th>\n",
              "      <td>https://www.otodom.pl/oferta/krzykisloneczne-r...</td>\n",
              "      <td>62 m²</td>\n",
              "      <td>Krzyki*Słoneczne rozkładowe 2 Duże* pokoje balkon</td>\n",
              "      <td>rent</td>\n",
              "      <td>Wrocław, Krzyki</td>\n",
              "      <td>1 950 zł</td>\n",
              "      <td>+580 zł</td>\n",
              "      <td>2 600 zł</td>\n",
              "      <td>2</td>\n",
              "      <td>2006</td>\n",
              "      <td>1</td>\n",
              "      <td>4</td>\n",
              "    </tr>\n",
              "    <tr>\n",
              "      <th>13499</th>\n",
              "      <td>https://www.otodom.pl/oferta/grota-roweckiego-...</td>\n",
              "      <td>60 m²</td>\n",
              "      <td>Grota-Roweckiego 53, Ruczaj, 3 pokoje, 0% Prow...</td>\n",
              "      <td>rent</td>\n",
              "      <td>Kraków, Dębniki</td>\n",
              "      <td>1 990 zł</td>\n",
              "      <td>no data</td>\n",
              "      <td>no data</td>\n",
              "      <td>3</td>\n",
              "      <td>1985</td>\n",
              "      <td>2</td>\n",
              "      <td>4</td>\n",
              "    </tr>\n",
              "  </tbody>\n",
              "</table>\n",
              "<p>13500 rows × 12 columns</p>\n",
              "</div>"
            ],
            "text/plain": [
              "                                                    href  ... number of floors\n",
              "0      https://www.otodom.pl/oferta/nowoczesny-wyjatk...  ...                7\n",
              "1      https://www.otodom.pl/oferta/mieszkanie-jagiel...  ...          no data\n",
              "2      https://www.otodom.pl/oferta/na-ok-4-miesiace-...  ...               10\n",
              "3      https://www.otodom.pl/oferta/rodzinne-mieszkan...  ...                3\n",
              "4      https://www.otodom.pl/oferta/mieszkanie-2-poko...  ...                4\n",
              "...                                                  ...  ...              ...\n",
              "13495  https://www.otodom.pl/oferta/mieszkanie-90-m-w...  ...                8\n",
              "13496  https://www.otodom.pl/oferta/rozkladowe-mieszk...  ...          no data\n",
              "13497  https://www.otodom.pl/oferta/2-pok-41m2-marina...  ...                6\n",
              "13498  https://www.otodom.pl/oferta/krzykisloneczne-r...  ...                4\n",
              "13499  https://www.otodom.pl/oferta/grota-roweckiego-...  ...                4\n",
              "\n",
              "[13500 rows x 12 columns]"
            ]
          },
          "metadata": {
            "tags": []
          },
          "execution_count": 238
        }
      ]
    }
  ]
}