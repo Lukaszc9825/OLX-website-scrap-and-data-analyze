{
  "nbformat": 4,
  "nbformat_minor": 0,
  "metadata": {
    "colab": {
      "name": "Otodom_data_analyze.ipynb",
      "provenance": [],
      "collapsed_sections": [],
      "toc_visible": true,
      "mount_file_id": "1ZaRdUPmE5yeqUSjrfo5nx98prX3K3eMx",
      "authorship_tag": "ABX9TyOjgtuvHBOuDOk+f0ZZNb6Q",
      "include_colab_link": true
    },
    "kernelspec": {
      "name": "python3",
      "display_name": "Python 3"
    }
  },
  "cells": [
    {
      "cell_type": "markdown",
      "metadata": {
        "id": "view-in-github",
        "colab_type": "text"
      },
      "source": [
        "<a href=\"https://colab.research.google.com/github/Lukaszc9825/webscrap-and-bigdata-analyze/blob/collab/Otodom_data_analyze.ipynb\" target=\"_parent\"><img src=\"https://colab.research.google.com/assets/colab-badge.svg\" alt=\"Open In Colab\"/></a>"
      ]
    },
    {
      "cell_type": "markdown",
      "metadata": {
        "id": "TmAcrq3Ztccj"
      },
      "source": [
        "\n",
        "**Libraries install and import**"
      ]
    },
    {
      "cell_type": "code",
      "metadata": {
        "id": "sEctmWi-tq-m"
      },
      "source": [
        "import pandas as pd\n",
        "import json\n",
        "import requests\n",
        "from bs4 import BeautifulSoup as bs"
      ],
      "execution_count": 62,
      "outputs": []
    },
    {
      "cell_type": "markdown",
      "metadata": {
        "id": "wESK1Rzcu85Q"
      },
      "source": [
        "**Load data**"
      ]
    },
    {
      "cell_type": "code",
      "metadata": {
        "id": "MwZQx9BXu7bU"
      },
      "source": [
        "df1 = pd.read_json('/content/drive/My Drive/data analyze/otodom_rent_data')\n",
        "df2 = pd.read_json('/content/drive/My Drive/data analyze/otodom_sale_data')"
      ],
      "execution_count": 58,
      "outputs": []
    },
    {
      "cell_type": "code",
      "metadata": {
        "id": "q75VHnTR7O6M"
      },
      "source": [
        "headers = {\"User-Agent\": 'Mozilla/5.0 (X11; Linux x86_64) AppleWebKit/537.36\\\n",
        "(KHTML, like Gecko) Chrome/86.0.4240.75 Safari/537.36'}"
      ],
      "execution_count": 60,
      "outputs": []
    },
    {
      "cell_type": "code",
      "metadata": {
        "id": "wTLidKVZ8qm8",
        "outputId": "8a5976de-5ac3-46fe-dbed-9688b9011b1d",
        "colab": {
          "base_uri": "https://localhost:8080/",
          "height": 34
        }
      },
      "source": [
        "url = 'https://www.otodom.pl/oferta/nowoczesny-wyjatkowy-apartament-na-muranowie-ID47qeq.html#3d6685ac36'\n",
        "page = requests.get(url, headers = headers)\n",
        "soup = bs(page.content, 'html.parser')\n",
        "mess = soup.find_all(class_ ='section-overview')\n",
        "bail = []\n",
        "for m in mess:\n",
        "  data = m.find('ul')\n",
        "  data = data.find_all('li')\n",
        "  for key_value in data:\n",
        "    #print(key_value.get_text())\n",
        "    if 'Czynsz' in key_value.get_text():\n",
        "      bail.append(key_value.get_text().split(':')[1].strip())\n",
        "bail"
      ],
      "execution_count": 90,
      "outputs": [
        {
          "output_type": "execute_result",
          "data": {
            "text/plain": [
              "['300 zł']"
            ]
          },
          "metadata": {
            "tags": []
          },
          "execution_count": 90
        }
      ]
    },
    {
      "cell_type": "markdown",
      "metadata": {
        "id": "CjnAOZFM7Ckg"
      },
      "source": [
        "## *add kolumns with more accurate data*"
      ]
    },
    {
      "cell_type": "markdown",
      "metadata": {
        "id": "PHLLAa7A7zVG"
      },
      "source": [
        "*scrap each adverisment*"
      ]
    },
    {
      "cell_type": "code",
      "metadata": {
        "id": "Uh2mEvqX4gj7"
      },
      "source": [
        "rent = []\n",
        "for href in df1['href']:\n",
        "  page = requests.get(href, headers = headers)\n",
        "  soup = bs(page.content, 'html.parser')\n",
        "  mess = soup.find_all(class_ ='section-overview')\n",
        "  for m in mess:\n",
        "    data = m.find('ul')\n",
        "    data = data.find_all('li')\n",
        "    for key_value in data:\n",
        "    #print(key_value.get_text())\n",
        "      if 'Czynsz' in key_value.get_text():\n",
        "        rent.append(key_value.get_text().split(':')[1].strip())"
      ],
      "execution_count": 92,
      "outputs": []
    },
    {
      "cell_type": "code",
      "metadata": {
        "id": "dO-QAnrPXVgz",
        "outputId": "cfa91835-6cf8-4e63-a483-887161597aaf",
        "colab": {
          "base_uri": "https://localhost:8080/",
          "height": 34
        }
      },
      "source": [
        "print(bail)"
      ],
      "execution_count": 94,
      "outputs": [
        {
          "output_type": "stream",
          "text": [
            "[]\n"
          ],
          "name": "stdout"
        }
      ]
    }
  ]
}